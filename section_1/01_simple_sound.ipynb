{
  "cells": [
    {
      "cell_type": "markdown",
      "metadata": {
        "id": "view-in-github",
        "colab_type": "text"
      },
      "source": [
        "<a href=\"https://colab.research.google.com/github/yukinaga/ai_music/blob/main/section_1/01_simple_sound.ipynb\" target=\"_parent\"><img src=\"https://colab.research.google.com/assets/colab-badge.svg\" alt=\"Open In Colab\"/></a>"
      ]
    },
    {
      "cell_type": "markdown",
      "metadata": {
        "id": "dPkdg9jTjkTd"
      },
      "source": [
        "# Mageta로 소리 내자!\n",
        "우선 Magenta를 사용하여 심플한 소리를 내는 것부터 시작합시다."
      ]
    },
    {
      "cell_type": "markdown",
      "metadata": {
        "id": "oPKARfZNZ_EA"
      },
      "source": [
        "## ライブラリのインストール\n",
        "Magentaと共に、音楽生成用のライブラリpyFluidSynth、MIDIデータを処理するためのpretty_midiなどをインストールします。"
      ]
    },
    {
      "cell_type": "code",
      "execution_count": null,
      "metadata": {
        "id": "PRTOCXhK9YAM"
      },
      "outputs": [],
      "source": [
        "!apt-get update -qq && apt-get install -qq libfluidsynth1 fluid-soundfont-gm build-essential libasound2-dev libjack-dev\n",
        "!pip install -qU pyfluidsynth pretty_midi\n",
        "!pip install -qU magenta"
      ]
    },
    {
      "cell_type": "markdown",
      "metadata": {
        "id": "oLSgiA6Uktpm"
      },
      "source": [
        "## NoteSequenceで音を鳴らす\n",
        "\n",
        "`NoteSequence`はMagentaで中心的な役割を果たします。  \n",
        "様々な音程、楽器の一連の音声をまとめることができます。\n",
        "\n",
        "以下は、「きらきら星」を再生するコードです。  \n",
        "`NoteSequence`の`notes`に各音を表す`note`を加えていくことで、曲を作ることができます。\n"
      ]
    },
    {
      "cell_type": "code",
      "execution_count": null,
      "metadata": {
        "id": "71dgCmmBli-s"
      },
      "outputs": [],
      "source": [
        "import magenta\n",
        "import note_seq\n",
        "from note_seq.protobuf import music_pb2\n",
        "\n",
        "kira2 = music_pb2.NoteSequence()  # NoteSequence\n",
        "\n",
        "# notesにnoteを追加\n",
        "kira2.notes.add(pitch=60, start_time=0.0, end_time=0.4, velocity=80)\n",
        "kira2.notes.add(pitch=60, start_time=0.4, end_time=0.8, velocity=80)\n",
        "kira2.notes.add(pitch=67, start_time=0.8, end_time=1.2, velocity=80)\n",
        "kira2.notes.add(pitch=67, start_time=1.2, end_time=1.6, velocity=80)\n",
        "kira2.notes.add(pitch=69, start_time=1.6, end_time=2.0, velocity=80)\n",
        "kira2.notes.add(pitch=69, start_time=2.0, end_time=2.4, velocity=80)\n",
        "kira2.notes.add(pitch=67, start_time=2.4, end_time=3.2, velocity=80)\n",
        "kira2.notes.add(pitch=65, start_time=3.2, end_time=3.6, velocity=80)\n",
        "kira2.notes.add(pitch=65, start_time=3.6, end_time=4.0, velocity=80)\n",
        "kira2.notes.add(pitch=64, start_time=4.0, end_time=4.4, velocity=80)\n",
        "kira2.notes.add(pitch=64, start_time=4.4, end_time=4.8, velocity=80)\n",
        "kira2.notes.add(pitch=62, start_time=4.8, end_time=5.2, velocity=80)\n",
        "kira2.notes.add(pitch=62, start_time=5.2, end_time=5.6, velocity=80)\n",
        "kira2.notes.add(pitch=60, start_time=5.6, end_time=6.4, velocity=80) \n",
        "\n",
        "note_seq.plot_sequence(kira2)  # NoteSequenceの可視化\n",
        "note_seq.play_sequence(kira2, synth=note_seq.fluidsynth)  # NoteSequenceの再生"
      ]
    },
    {
      "cell_type": "markdown",
      "metadata": {
        "id": "QhtRBNNf05CA"
      },
      "source": [
        "## MIDIファイルの保存とダウンロード\n",
        "`NoteSequence`をMIDIデータに変換し、保存してダウンロードします。\n"
      ]
    },
    {
      "cell_type": "code",
      "execution_count": null,
      "metadata": {
        "id": "EcmmAToP4WE3"
      },
      "outputs": [],
      "source": [
        "from google.colab import files\n",
        "\n",
        "note_seq.sequence_proto_to_midi_file(kira2, \"kira2.mid\")  #MIDI　データに変換し保存\n",
        "files.download(\"kira2.mid\")  # ダウンロード"
      ]
    }
  ],
  "metadata": {
    "colab": {
      "collapsed_sections": [],
      "name": "01_simple_sound.ipynb",
      "provenance": [],
      "authorship_tag": "ABX9TyNrLPFxcUaFKjZa33v7co1V",
      "include_colab_link": true
    },
    "kernelspec": {
      "display_name": "Python 3",
      "name": "python3"
    },
    "language_info": {
      "name": "python"
    }
  },
  "nbformat": 4,
  "nbformat_minor": 0
}
