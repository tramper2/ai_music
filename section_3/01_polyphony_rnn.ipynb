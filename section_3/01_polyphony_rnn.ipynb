{
  "nbformat": 4,
  "nbformat_minor": 0,
  "metadata": {
    "colab": {
      "name": "01_polyphony_rnn.ipynb",
      "provenance": [],
      "collapsed_sections": [],
      "authorship_tag": "ABX9TyNj9NEMZB04Fw1WPoDSkeIB",
      "include_colab_link": true
    },
    "kernelspec": {
      "name": "python3",
      "display_name": "Python 3"
    },
    "language_info": {
      "name": "python"
    }
  },
  "cells": [
    {
      "cell_type": "markdown",
      "metadata": {
        "id": "view-in-github",
        "colab_type": "text"
      },
      "source": [
        "<a href=\"https://colab.research.google.com/github/yukinaga/ai_music/blob/main/section_3/01_polyphony_rnn.ipynb\" target=\"_parent\"><img src=\"https://colab.research.google.com/assets/colab-badge.svg\" alt=\"Open In Colab\"/></a>"
      ]
    },
    {
      "cell_type": "markdown",
      "metadata": {
        "id": "dPkdg9jTjkTd"
      },
      "source": [
        "# Polyphony RNN에 의한 작곡\n",
        "「Polyphony RNN」을 통해 바흐풍의 곡을 생성합시다."
      ]
    },
    {
      "cell_type": "markdown",
      "metadata": {
        "id": "oPKARfZNZ_EA"
      },
      "source": [
        "## 라이브러리 설치\n",
        "Magenta와 함께 음악 생성용 라이브러리 pyFluid Synth, MIDI 데이터를 처리하기 위한 pretty_midi 등을 설치합니다."
      ]
    },
    {
      "cell_type": "code",
      "metadata": {
        "id": "PRTOCXhK9YAM"
      },
      "source": [
        "!apt-get update -qq && apt-get install -qq libfluidsynth1 fluid-soundfont-gm build-essential libasound2-dev libjack-dev\n",
        "!pip install -qU pyfluidsynth pretty_midi\n",
        "!pip install -qU magenta"
      ],
      "execution_count": null,
      "outputs": []
    },
    {
      "cell_type": "markdown",
      "metadata": {
        "id": "oLSgiA6Uktpm"
      },
      "source": [
        "## 기점이 되는 멜로디의 설정\n",
        "RNN 의 기점이 되는 NoteSequence 를 설정합니다.  "
      ]
    },
    {
      "cell_type": "code",
      "metadata": {
        "id": "71dgCmmBli-s"
      },
      "source": [
        "import magenta\n",
        "import note_seq\n",
        "from note_seq.protobuf import music_pb2\n",
        "\n",
        "seed = music_pb2.NoteSequence()  # NoteSequence\n",
        "\n",
        "# notesにnoteを追加\n",
        "seed.notes.add(pitch=80, start_time=0.0, end_time=0.4, velocity=80)\n",
        "seed.notes.add(pitch=80, start_time=0.4, end_time=0.8, velocity=80)\n",
        "seed.notes.add(pitch=87, start_time=0.8, end_time=1.2, velocity=80)\n",
        "seed.notes.add(pitch=87, start_time=1.2, end_time=1.6, velocity=80)\n",
        "seed.notes.add(pitch=89, start_time=1.6, end_time=2.0, velocity=80)\n",
        "seed.notes.add(pitch=89, start_time=2.0, end_time=2.4, velocity=80)\n",
        "seed.notes.add(pitch=87, start_time=2.4, end_time=3.2, velocity=80)\n",
        "\n",
        "seed.total_time = 3.2  # 所要時間\n",
        "seed.tempos.add(qpm=75);  # 曲のテンポを指定\n",
        "\n",
        "note_seq.plot_sequence(seed)  # NoteSequenceの可視化\n",
        "note_seq.play_sequence(seed, synth=note_seq.fluidsynth)  # NoteSequenceの再生"
      ],
      "execution_count": null,
      "outputs": []
    },
    {
      "cell_type": "markdown",
      "metadata": {
        "id": "0OIHKcG5BIWL"
      },
      "source": [
        "## Polyphony RNN 초기화\n",
        "\n",
        "Polyphony RNN은 LSTM을 기반으로 바흐풍의 곡을 생성할 수 있습니다.  \n",
        "합창곡, 즉 화음을 연결하여 진행하는 곡이 생성됩니다.\n",
        "\n",
        "https://github.com/magenta/magenta/tree/main/magenta/models/polyphony_rnn\n",
        "\n",
        "학습완료된 모델은 Bundle 파일(.mag 파일)에 저장되어 있습니다.  \n",
        "아래 코드는 학습완료 모델 「polyphony_rn.mag」을 읽고 곡 생성기를 설정하고 있습니다"
      ]
    },
    {
      "cell_type": "code",
      "metadata": {
        "id": "BGaAsIfn7V4A"
      },
      "source": [
        "from magenta.models.polyphony_rnn import polyphony_sequence_generator\n",
        "from magenta.models.shared import sequence_generator_bundle\n",
        "\n",
        "# モデルの初期化\n",
        "note_seq.notebook_utils.download_bundle(\"polyphony_rnn.mag\", \"/models/\")  # Bundle（.magファイル）をダウンロード\n",
        "bundle = sequence_generator_bundle.read_bundle_file(\"/models/polyphony_rnn.mag\")  # Bundleの読み込み\n",
        "generator_map = polyphony_sequence_generator.get_generator_map()\n",
        "polyphony_rnn = generator_map[\"polyphony\"](checkpoint=None, bundle=bundle)  # 生成器の設定\n",
        "polyphony_rnn.initialize()  # 初期化"
      ],
      "execution_count": null,
      "outputs": []
    },
    {
      "cell_type": "markdown",
      "metadata": {
        "id": "93X1xN6iLyz7"
      },
      "source": [
       "## 곡 생성\n",
        "\n",
        "각 설정을 실시한 후, 생성기에 의해 곡을 생성합니다.  \n",
        "`temperature`를 변경함으로써 곡의 랜덤 정도를 조정할 수 있습니다."
      ]
    },
    {
      "cell_type": "code",
      "metadata": {
        "id": "rlJMFYPH8t36"
      },
      "source": [
        "from note_seq.protobuf import generator_pb2\n",
        "\n",
        "total_time = 180 # 曲の長さ（秒）\n",
        "temperature = 1.0 # 曲の「ランダム度合い」を決める定数\n",
        "\n",
        "base_end_time = max(note.end_time for note in seed.notes)  #ベース曲の終了時刻\n",
        "\n",
        "# 生成器に関する設定\n",
        "generator_options = generator_pb2.GeneratorOptions()  # 生成器のオプション\n",
        "generator_options.args[\"temperature\"].float_value = temperature  # ランダム度合い\n",
        "generator_options.generate_sections.add(\n",
        "    start_time=base_end_time,  # 作曲開始時刻\n",
        "    end_time=total_time)  # 作曲終了時刻\n",
        "\n",
        "# 曲の生成\n",
        "gen_seq = polyphony_rnn.generate(seed, generator_options)\n",
        "\n",
        "note_seq.plot_sequence(gen_seq)  # NoteSequenceの可視化\n",
        "note_seq.play_sequence(gen_seq, synth=note_seq.fluidsynth)  # NoteSequenceの再生"
      ],
      "execution_count": null,
      "outputs": []
    },
    {
      "cell_type": "markdown",
      "metadata": {
        "id": "QhtRBNNf05CA"
      },
      "source": [
        "## MIDIファイルの保存とダウンロード\n",
        "`NoteSequence`をMIDIデータに変換し、保存してダウンロードします。\n"
      ]
    },
    {
      "cell_type": "code",
      "metadata": {
        "id": "EcmmAToP4WE3"
      },
      "source": [
        "from google.colab import files\n",
        "\n",
        "note_seq.sequence_proto_to_midi_file(gen_seq, \"polyphony_rnn.mid\")  #MIDI　データに変換し保存\n",
        "files.download(\"polyphony_rnn.mid\")  # ダウンロード"
      ],
      "execution_count": null,
      "outputs": []
    }
  ]
}
