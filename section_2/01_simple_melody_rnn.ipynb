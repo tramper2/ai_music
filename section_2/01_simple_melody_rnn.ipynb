{
  "nbformat": 4,
  "nbformat_minor": 0,
  "metadata": {
    "colab": {
      "name": "01_simple_melody_rnn.ipynb",
      "provenance": [],
      "collapsed_sections": [],
      "authorship_tag": "ABX9TyPwCFyZKXfCJQypKz7Sbk/J",
      "include_colab_link": true
    },
    "kernelspec": {
      "name": "python3",
      "display_name": "Python 3"
    },
    "language_info": {
      "name": "python"
    }
  },
  "cells": [
    {
      "cell_type": "markdown",
      "metadata": {
        "id": "view-in-github",
        "colab_type": "text"
      },
      "source": [
        "<a href=\"https://colab.research.google.com/github/yukinaga/ai_music/blob/main/section_2/01_simple_melody_rnn.ipynb\" target=\"_parent\"><img src=\"https://colab.research.google.com/assets/colab-badge.svg\" alt=\"Open In Colab\"/></a>"
      ]
    },
    {
      "cell_type": "markdown",
      "metadata": {
        "id": "dPkdg9jTjkTd"
      },
      "source": [
        "# 멜로디 RNN을 사용해 보자!\n",
        "「멜로디 RNN」을 사용해서 곡을 생성해 보도록 하겠습니다."
      ]
    },
    {
      "cell_type": "markdown",
      "metadata": {
        "id": "oPKARfZNZ_EA"
      },
      "source": [
        "## 라이브러리 설치\n",
        "Magenta와 함께 음악 생성용 라이브러리 pyFluid Synth, MIDI 데이터를 처리하기 위한 pretty_midi 등을 설치합니다."
      ]
    },
    {
      "cell_type": "code",
      "metadata": {
        "id": "PRTOCXhK9YAM"
      },
      "source": [
        "!apt-get update -qq && apt-get install -qq libfluidsynth1 fluid-soundfont-gm build-essential libasound2-dev libjack-dev\n",
        "!pip install -qU pyfluidsynth pretty_midi\n",
        "!pip install -qU magenta"
      ],
      "execution_count": null,
      "outputs": []
    },
    {
      "cell_type": "markdown",
      "metadata": {
        "id": "oLSgiA6Uktpm"
      },
      "source": [
        "## NoteSequence로 소리를 낸다\n",
        "\n",
        "이번에는 Section 1에서 작성한 「반짝반짝 별」의 노트 Sequence를 베이스로 곡을 생성합니다.  \n",
        "아래 코드는 지난 코드에 곡의 템포 및 소요시간을 지정하는 행을 추가한 것입니다.  \n",
        "`qpm` 옵션에 따라 1분간 사분음표의 수를 지정할 수 있습니다.\n"
      ]
    },
    {
      "cell_type": "code",
      "metadata": {
        "id": "71dgCmmBli-s"
      },
      "source": [
        "import magenta\n",
        "import note_seq\n",
        "from note_seq.protobuf import music_pb2\n",
        "\n",
        "kira2 = music_pb2.NoteSequence()  # NoteSequence\n",
        "\n",
        "# notesにnoteを追加\n",
        "kira2.notes.add(pitch=60, start_time=0.0, end_time=0.4, velocity=80)\n",
        "kira2.notes.add(pitch=60, start_time=0.4, end_time=0.8, velocity=80)\n",
        "kira2.notes.add(pitch=67, start_time=0.8, end_time=1.2, velocity=80)\n",
        "kira2.notes.add(pitch=67, start_time=1.2, end_time=1.6, velocity=80)\n",
        "kira2.notes.add(pitch=69, start_time=1.6, end_time=2.0, velocity=80)\n",
        "kira2.notes.add(pitch=69, start_time=2.0, end_time=2.4, velocity=80)\n",
        "kira2.notes.add(pitch=67, start_time=2.4, end_time=3.2, velocity=80)\n",
        "kira2.notes.add(pitch=65, start_time=3.2, end_time=3.6, velocity=80)\n",
        "kira2.notes.add(pitch=65, start_time=3.6, end_time=4.0, velocity=80)\n",
        "kira2.notes.add(pitch=64, start_time=4.0, end_time=4.4, velocity=80)\n",
        "kira2.notes.add(pitch=64, start_time=4.4, end_time=4.8, velocity=80)\n",
        "kira2.notes.add(pitch=62, start_time=4.8, end_time=5.2, velocity=80)\n",
        "kira2.notes.add(pitch=62, start_time=5.2, end_time=5.6, velocity=80)\n",
        "kira2.notes.add(pitch=60, start_time=5.6, end_time=6.4, velocity=80) \n",
        "\n",
        "kira 2. total_time=6.4 #소요시간\n",
        "kira 2.tempos.add(qpm=75);#곡의 템포를 지정\n",
        "\n",
        "note_seq.plot_sequence(kira2)  # NoteSequenceの可視化\n",
        "note_seq.play_sequence(kira2, synth=note_seq.fluidsynth)  # NoteSequenceの再生"
      ],
      "execution_count": null,
      "outputs": []
    },
    {
      "cell_type": "markdown",
      "metadata": {
        "id": "0OIHKcG5BIWL"
      },
      "source": [
        "## MelodyRNN\n",
        "\n",
        "멜로디 RNN은 RNN의 일종 'LSTM'을 기반으로 한 곡을 생성하는 모델입니다.  \n",
        "이로써, 가장 최근의 note와 함께 다음 note가 예측됩니다.  \n",
        "이를 반복함으로써 곡이 생성되게 됩니다.  \n",
        "Magenta에는 수천 곡의 MIDI 데이터를 사용하여 학습한 학습된 모델이 포함되어 있으며, 이 학습된 모델은 그대로 작곡에 사용할 수 있습니다.  \n",
        "\n",
        "학습완료된 모델은 Bundle 파일(.mag 파일)에 저장되어 있습니다.  \n",
        "아래 코드는 학습된 모델 "basic_rn.mag"을 읽고 곡 생성기를 설정하고 있습니다."
      ]
    },
    {
      "cell_type": "code",
      "metadata": {
        "id": "BGaAsIfn7V4A"
      },
      "source": [
        "from magenta.models.melody_rnn import melody_rnn_sequence_generator\n",
        "from magenta.models.shared import sequence_generator_bundle\n",
        "\n",
        "# モデルの初期化\n",
        "note_seq.notebook_utils.download_bundle(\"basic_rnn.mag\", \"/models/\")  # Bundle（.magファイル）をダウンロード\n",
        "bundle = sequence_generator_bundle.read_bundle_file(\"/models/basic_rnn.mag\")  # Bundleの読み込み\n",
        "generator_map = melody_rnn_sequence_generator.get_generator_map()\n",
        "melody_rnn = generator_map[\"basic_rnn\"](checkpoint=None, bundle=bundle)  # 生成器の設定\n",
        "melody_rnn.initialize()  # 初期化"
      ],
      "execution_count": null,
      "outputs": []
    },
    {
      "cell_type": "markdown",
      "metadata": {
        "id": "93X1xN6iLyz7"
      },
      "source": [
        "## 곡 생성\n",
        "\n",
        "각 설정을 실시한 후, 생성기에 의해 곡을 생성합니다.  \n",
        "`temperature`를 변경함으로써 곡의 「랜덤 정도」를 조정할 수 있습니다."
      ]
    },
    {
      "cell_type": "code",
      "metadata": {
        "id": "rlJMFYPH8t36"
      },
      "source": [
        "from note_seq.protobuf import generator_pb2\n",
        "\n",
        "base_sequence = kira2  # ベースになるNoteSeqence\n",
        "total_time = 36 # 曲の長さ（秒）\n",
        "temperature = 1.2 # 曲の「ランダム度合い」を決める定数\n",
        "\n",
        "base_end_time = max(note.end_time for note in base_sequence.notes)  #ベース曲の終了時刻\n",
        "\n",
        "# 生成器に関する設定\n",
        "generator_options = generator_pb2.GeneratorOptions()  # 生成器のオプション\n",
        "generator_options.args[\"temperature\"].float_value = temperature  # ランダム度合い\n",
        "generator_options.generate_sections.add(\n",
        "    start_time=base_end_time,  # 作曲開始時刻\n",
        "    end_time=total_time)  # 作曲終了時刻\n",
        "\n",
        "# 曲の生成\n",
        "gen_seq = melody_rnn.generate(base_sequence, generator_options)\n",
        "\n",
        "note_seq.plot_sequence(gen_seq)  # NoteSequenceの可視化\n",
        "note_seq.play_sequence(gen_seq, synth=note_seq.fluidsynth)  # NoteSequenceの再生"
      ],
      "execution_count": null,
      "outputs": []
    },
    {
      "cell_type": "markdown",
      "metadata": {
        "id": "QhtRBNNf05CA"
      },
      "source": [
        "## MIDIファイルの保存とダウンロード\n",
        "`NoteSequence`をMIDIデータに変換し、保存してダウンロードします。\n"
      ]
    },
    {
      "cell_type": "code",
      "metadata": {
        "id": "EcmmAToP4WE3"
      },
      "source": [
        "from google.colab import files\n",
        "\n",
        "note_seq.sequence_proto_to_midi_file(gen_seq, \"simple_melody_rnn.mid\")  #MIDI　データに変換し保存\n",
        "files.download(\"simple_melody_rnn.mid\")  # ダウンロード"
      ],
      "execution_count": null,
      "outputs": []
    }
  ]
}
