{
  "nbformat": 4,
  "nbformat_minor": 0,
  "metadata": {
    "colab": {
      "name": "02_gansynth.ipynb",
      "provenance": [],
      "collapsed_sections": [],
      "authorship_tag": "ABX9TyOtWzTrMFgj3bgCCQBM8Zwi",
      "include_colab_link": true
    },
    "kernelspec": {
      "name": "python3",
      "display_name": "Python 3"
    },
    "language_info": {
      "name": "python"
    },
    "accelerator": "GPU"
  },
  "cells": [
    {
      "cell_type": "markdown",
      "metadata": {
        "id": "view-in-github",
        "colab_type": "text"
      },
      "source": [
        "<a href=\"https://colab.research.google.com/github/yukinaga/ai_music/blob/main/section_4/02_gansynth.ipynb\" target=\"_parent\"><img src=\"https://colab.research.google.com/assets/colab-badge.svg\" alt=\"Open In Colab\"/></a>"
      ]
    },
    {
      "cell_type": "markdown",
      "metadata": {
        "id": "dPkdg9jTjkTd"
      },
      "source": [
        "# GANSynth에 의한 작곡\n",
        "'GANSynth'를 통해 MIDI 데이터에 악기의 음성을 부여합니다.  \n",
        "생성에는 시간이 걸리기 때문에, 「편집」→「노트북의 설정」→「하드웨어 액셀러레이터」로「GPU」를 선택해 둡시다.  \n",
        "이 노트북의 코드는 아래의 링크처의 코드를 참고하고 있습니다.  \n",
        "http://goo.gl/magenta/gansynth-demo"
      ]
    },
    {
      "cell_type": "markdown",
      "metadata": {
        "id": "oPKARfZNZ_EA"
      },
      "source": [
        "## 라이브러리 설치\n",
        "Magenta와 함께 음악 생성용 라이브러리 pyFluid Synth, MIDI 데이터를 처리하기 위한 pretty_midi 등을 설치합니다."
      ]
    },
    {
      "cell_type": "code",
      "metadata": {
        "id": "PRTOCXhK9YAM"
      },
      "source": [
        "!apt-get update -qq && apt-get install -qq libfluidsynth1 fluid-soundfont-gm build-essential libasound2-dev libjack-dev\n",
        "!pip install -qU pyfluidsynth pretty_midi\n",
        "!pip install -qU magenta==2.1.0"
      ],
      "execution_count": null,
      "outputs": []
    },
    {
      "cell_type": "markdown",
      "metadata": {
        "id": "F5-xG4QVx1iK"
      },
      "source": [
        "## 라이브러리의 도입\n",
        "Magenta의 필요한 기능과 NumPy 등의 라이브러리를 도입합니다."
      ]
    },
    {
      "cell_type": "code",
      "metadata": {
        "id": "PuBbvFkNssM3"
      },
      "source": [
        "import numpy as np\n",
        "import matplotlib.pyplot as plt\n",
        "from google.colab import files\n",
        "import tensorflow.compat.v1 as tf\n",
        "import librosa\n",
        "\n",
        "import magenta.music as mm\n",
        "from magenta.models.gansynth.lib import flags as lib_flags\n",
        "from magenta.models.gansynth.lib import generate_util as gu\n",
        "from magenta.models.gansynth.lib import model as lib_model\n",
        "from magenta.models.gansynth.lib import util\n",
        "from note_seq.notebook_utils import colab_play as play\n",
        "\n",
        "import note_seq"
      ],
      "execution_count": null,
      "outputs": []
    },
    {
      "cell_type": "markdown",
      "metadata": {
        "id": "_XAYVxmpyLQb"
      },
      "source": [
        "## 각 설정값 \n",
        "곡의 생성에 관한 각 값을 설정합니다."
      ]
    },
    {
      "cell_type": "code",
      "metadata": {
        "id": "YD3DbsM_rBP5"
      },
      "source": [
        "BATCH_SIZE = 16 # 한번에 취급하는 데이터 수\n",
        "SR=16000# 샘플링 레이트"
      ],
      "execution_count": null,
      "outputs": []
    },
    {
      "cell_type": "markdown",
      "metadata": {
        "id": "FDC_l0Guz-go"
      },
      "source": [
        "## 함수의 설정\n",
        "음성을 처리하는 함수입니다.  \n",
        "이하의 링크처의 코드를 사용하고 있습니다.  \n",
        "http://goo.gl/magenta/gansynth-demo"
      ]
    },
    {
      "cell_type": "code",
      "metadata": {
        "id": "cSrXsUPJczea"
      },
      "source": [
        "def load_midi(midi_path, min_pitch=36, max_pitch=84):\n",
        "  \"\"\"Load midi as a notesequence.\"\"\"\n",
        "  midi_path = util.expand_path(midi_path)\n",
        "  ns = note_seq.midi_file_to_sequence_proto(midi_path)\n",
        "  pitches = np.array([n.pitch for n in ns.notes])\n",
        "  velocities = np.array([n.velocity for n in ns.notes])\n",
        "  start_times = np.array([n.start_time for n in ns.notes])\n",
        "  end_times = np.array([n.end_time for n in ns.notes])\n",
        "  valid = np.logical_and(pitches >= min_pitch, pitches <= max_pitch)\n",
        "  notes = {'pitches': pitches[valid],\n",
        "           'velocities': velocities[valid],\n",
        "           'start_times': start_times[valid],\n",
        "           'end_times': end_times[valid]}\n",
        "  return ns, notes\n",
        "\n",
        "def get_envelope(t_note_length, t_attack=0.010, t_release=0.3, sr=16000):\n",
        "  \"\"\"Create an attack sustain release amplitude envelope.\"\"\"\n",
        "  t_note_length = min(t_note_length, 3.0)\n",
        "  i_attack = int(sr * t_attack)\n",
        "  i_sustain = int(sr * t_note_length)\n",
        "  i_release = int(sr * t_release)\n",
        "  i_tot = i_sustain + i_release  # attack envelope doesn't add to sound length\n",
        "  envelope = np.ones(i_tot)\n",
        "  # Linear attack\n",
        "  envelope[:i_attack] = np.linspace(0.0, 1.0, i_attack)\n",
        "  # Linear release\n",
        "  envelope[i_sustain:i_tot] = np.linspace(1.0, 0.0, i_release)\n",
        "  return envelope\n",
        "\n",
        "def combine_notes(audio_notes, start_times, end_times, velocities, sr=16000):\n",
        "  \"\"\"Combine audio from multiple notes into a single audio clip.\n",
        "\n",
        "  Args:\n",
        "    audio_notes: Array of audio [n_notes, audio_samples].\n",
        "    start_times: Array of note starts in seconds [n_notes].\n",
        "    end_times: Array of note ends in seconds [n_notes].\n",
        "    sr: Integer, sample rate.\n",
        "\n",
        "  Returns:\n",
        "    audio_clip: Array of combined audio clip [audio_samples]\n",
        "  \"\"\"\n",
        "  n_notes = len(audio_notes)\n",
        "  clip_length = end_times.max() + 3.0\n",
        "  audio_clip = np.zeros(int(clip_length) * sr)\n",
        "\n",
        "  for t_start, t_end, vel, i in zip(start_times, end_times, velocities, range(n_notes)):\n",
        "    # Generate an amplitude envelope\n",
        "    t_note_length = t_end - t_start\n",
        "    envelope = get_envelope(t_note_length)\n",
        "    length = len(envelope)\n",
        "    audio_note = audio_notes[i, :length] * envelope\n",
        "    # Normalize\n",
        "    audio_note /= audio_note.max()\n",
        "    audio_note *= (vel / 127.0)\n",
        "    # Add to clip buffer\n",
        "    clip_start = int(t_start * sr)\n",
        "    clip_end = clip_start + length\n",
        "    audio_clip[clip_start:clip_end] += audio_note\n",
        "\n",
        "  # Normalize\n",
        "  audio_clip /= audio_clip.max()\n",
        "  audio_clip /= 2.0\n",
        "  return audio_clip\n",
        "\n",
        "# Plotting tools\n",
        "def specplot(audio_clip):\n",
        "  p_min = np.min(36)\n",
        "  p_max = np.max(84)\n",
        "  f_min = librosa.midi_to_hz(p_min)\n",
        "  f_max = 2 * librosa.midi_to_hz(p_max)\n",
        "  octaves = int(np.ceil(np.log2(f_max) - np.log2(f_min)))\n",
        "  bins_per_octave = 36\n",
        "  n_bins = int(bins_per_octave * octaves)\n",
        "  C = librosa.cqt(audio_clip, sr=SR, hop_length=2048, fmin=f_min, n_bins=n_bins, bins_per_octave=bins_per_octave)\n",
        "  power = 10 * np.log10(np.abs(C)**2 + 1e-6)\n",
        "  plt.matshow(power[::-1, 2:-2], aspect='auto', cmap=plt.cm.magma)\n",
        "  plt.yticks([])\n",
        "  plt.xticks([])"
      ],
      "execution_count": null,
      "outputs": []
    },
    {
      "cell_type": "markdown",
      "metadata": {
        "id": "rUhjLcWwzwp4"
      },
      "source": [
        "## GANSynth의 모델\n",
        "경로를 지정하고 GANSynth의 학습완료 모델을 읽습니다."
      ]
    },
    {
      "cell_type": "code",
      "metadata": {
        "id": "RyvtNnTVXU8k"
      },
      "source": [
        "tf.disable_v2_behavior()  # tensorflow2で1.xのコードを動かす\n",
        "tf.reset_default_graph()  # tensorflowのグラフをリセット\n",
        "\n",
        "model_dir = \"gs://magentadata/models/gansynth/acoustic_only\"\n",
        "flags = lib_flags.Flags({\n",
        "    \"batch_size_schedule\": [BATCH_SIZE],\n",
        "    \"tfds_data_dir\": \"gs://tfds-data/datasets\",\n",
        "})\n",
        "model = lib_model.Model.load_from_path(model_dir, flags)"
      ],
      "execution_count": null,
      "outputs": []
    },
    {
      "cell_type": "markdown",
      "metadata": {
        "id": "HhwQ_hSyqD1S"
      },
      "source": [
        "「01_multitrack_musicvae.ipynb」で作成した、「conditional_vae.mid」を、ノートブック左の「ファイル」にアップロードしましょう。  \n",
        "以下は、このファイルを読み込むコードです。  "
      ]
    },
    {
      "cell_type": "code",
      "metadata": {
        "id": "IG45NrZ2cIE6"
      },
      "source": [
        "midi_path = \"conditional_vae.mid\"\n",
        "ns, notes = load_midi(midi_path)\n",
        "\n",
        "note_seq.plot_sequence(ns)\n",
        "note_seq.play_sequence(ns, synth=note_seq.fluidsynth) "
      ],
      "execution_count": null,
      "outputs": []
    },
    {
      "cell_type": "markdown",
      "metadata": {
        "id": "ECdIgyBm16mW"
      },
      "source": [
        "GANSynth를 통해 가져온 MIDI 데이터에 악기의 음성을 부여합니다.   \n",
        "악기는 랜덤으로 천천히 바뀝니다.  "
      ]
    },
    {
      "cell_type": "code",
      "metadata": {
        "id": "nyfZOuo1WgbS"
      },
      "source": [
        "seconds_per_instrument = 5  # 악기가 바뀌는 간격\n",
        "\n",
        "# 잠재변수가 랜덤하게 천천히 변화\n",
        "z_instruments, t_instruments = gu.get_random_instruments(  # 潜在変数とその時間\n",
        "    model,\n",
        "    notes[\"end_times\"][-1],\n",
        "    secs_per_instrument=seconds_per_instrument)\n",
        "\n",
        "# 各noteの潜在変数を取得\n",
        "z_notes = gu.get_z_notes(notes[\"start_times\"], z_instruments, t_instruments)\n",
        "\n",
        "# 各ノートの音声を生成\n",
        "audio_notes = model.generate_samples_from_z(z_notes, notes[\"pitches\"])\n",
        "\n",
        "# 1つの音声にまとめる\n",
        "audio = combine_notes(\n",
        "    audio_notes,\n",
        "    notes[\"start_times\"],\n",
        "    notes[\"end_times\"],\n",
        "    notes[\"velocities\"]\n",
        "    )\n",
        "\n",
        "specplot(audio)  # スペクトログラムの表示\n",
        "play(audio, sample_rate=SR)"
      ],
      "execution_count": null,
      "outputs": []
    },
    {
      "cell_type": "markdown",
      "metadata": {
        "id": "QhtRBNNf05CA"
      },
      "source": [
        "음성을 wav 데이터로 변환하고 저장 후 다운로드 합니다.\n"
      ]
    },
    {
      "cell_type": "code",
      "metadata": {
        "id": "Nl883QBOr6le"
      },
      "source": [
        "file_name = \"gansynth.wav\"\n",
        "gu.save_wav(audio, file_name)\n",
        "files.download(file_name)"
      ],
      "execution_count": null,
      "outputs": []
    }
  ]
}
